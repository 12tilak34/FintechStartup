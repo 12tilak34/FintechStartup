{
  "nbformat": 4,
  "nbformat_minor": 0,
  "metadata": {
    "colab": {
      "provenance": [],
      "authorship_tag": "ABX9TyMt/aFSeSc7VtPLt4Ym/L7s",
      "include_colab_link": true
    },
    "kernelspec": {
      "name": "python3",
      "display_name": "Python 3"
    },
    "language_info": {
      "name": "python"
    }
  },
  "cells": [
    {
      "cell_type": "markdown",
      "metadata": {
        "id": "view-in-github",
        "colab_type": "text"
      },
      "source": [
        "<a href=\"https://colab.research.google.com/github/12tilak34/Fintechstartup/blob/main/%F0%9D%90%92%F0%9D%90%9E%F0%9D%90%9A%F0%9D%90%AC%F0%9D%90%A8%F0%9D%90%A7%F0%9D%90%9A%F0%9D%90%A5_%F0%9D%90%87%F0%9D%90%B2%F0%9D%90%9B%F0%9D%90%AB%F0%9D%90%A2%F0%9D%90%9D_%F0%9D%90%90%F0%9D%90%AE%F0%9D%90%9A%F0%9D%90%A7%F0%9D%90%AD_%F0%9D%90%92%F0%9D%90%AD%F0%9D%90%AB%F0%9D%90%9A%F0%9D%90%AD%F0%9D%90%9E%F0%9D%90%A0%F0%9D%90%B2.ipynb\" target=\"_parent\"><img src=\"https://colab.research.google.com/assets/colab-badge.svg\" alt=\"Open In Colab\"/></a>"
      ]
    },
    {
      "cell_type": "markdown",
      "source": [
        "### **𝐒𝐞𝐚𝐬𝐨𝐧𝐚𝐥 𝐇𝐲𝐛𝐫𝐢𝐝 𝐐𝐮𝐚𝐧𝐭 𝐒𝐭𝐫𝐚𝐭𝐞𝐠𝐲**"
      ],
      "metadata": {
        "id": "bC88n5bKc0j6"
      }
    },
    {
      "cell_type": "code",
      "source": [
        "pip install gnews"
      ],
      "metadata": {
        "collapsed": true,
        "id": "E-ogsXAqdemH"
      },
      "execution_count": null,
      "outputs": []
    },
    {
      "cell_type": "code",
      "source": [
        "pip install yfinance"
      ],
      "metadata": {
        "collapsed": true,
        "id": "8gSeaOCNdt2z"
      },
      "execution_count": null,
      "outputs": []
    },
    {
      "cell_type": "code",
      "source": [
        "import pandas as pd\n",
        "import yfinance as yf\n",
        "from sklearn.ensemble import RandomForestClassifier\n",
        "from sklearn.model_selection import train_test_split\n",
        "from sklearn.metrics import accuracy_score\n",
        "import numpy as np\n",
        "from gnews import GNews\n",
        "\n",
        "# Fetch data of indian stocks from yahoo finance\n",
        "symbols = ['RITES', 'RELIANCE', 'TATAMOTORS', 'TAJGVK']\n",
        "\n",
        "data = {}\n",
        "for symbol in symbols:\n",
        "    data[symbol] = yf.download(symbol + '.NS', start='2020-01-01', end='2024-01-01')\n",
        "\n",
        "# Initialize GNews\n",
        "gnews = GNews()\n",
        "\n",
        "# Function to fetch and process news for a symbol\n",
        "def fetch_and_process_news(symbol):\n",
        "    news = gnews.get_news(symbol)\n",
        "    news_df = pd.DataFrame(news)\n",
        "    news_df['symbol'] = symbol\n",
        "    news_df['date'] = pd.to_datetime(news_df['published date'], format='%a, %d %b %Y %H:%M:%S GMT')\n",
        "    return news_df\n",
        "\n",
        "# Fetch news data\n",
        "news_data = pd.concat([fetch_and_process_news(symbol) for symbol in symbols])\n",
        "\n",
        "# Display first 5 rows\n",
        "print(news_data.head())"
      ],
      "metadata": {
        "colab": {
          "base_uri": "https://localhost:8080/"
        },
        "id": "m0RSJ4jhc5uA",
        "outputId": "0f4726c0-7382-48eb-e839-2dacaf441593"
      },
      "execution_count": 15,
      "outputs": [
        {
          "output_type": "stream",
          "name": "stderr",
          "text": [
            "[*********************100%%**********************]  1 of 1 completed\n",
            "[*********************100%%**********************]  1 of 1 completed\n",
            "[*********************100%%**********************]  1 of 1 completed\n",
            "[*********************100%%**********************]  1 of 1 completed\n"
          ]
        },
        {
          "output_type": "stream",
          "name": "stdout",
          "text": [
            "                                               title  \\\n",
            "0  Winston Manning Military Rites | Obituaries | ...   \n",
            "1  Private Rites by Julia Armfield review – famil...   \n",
            "2  Spotlight Album: Kosmic Attunement to the Male...   \n",
            "3  Robinson-Patman Deserves Last Rites, Not Resur...   \n",
            "4  Rites of Spring music festival is April 20 - V...   \n",
            "\n",
            "                                         description  \\\n",
            "0  Winston Manning Military Rites | Obituaries | ...   \n",
            "1  Private Rites by Julia Armfield review – famil...   \n",
            "2  Spotlight Album: Kosmic Attunement to the Male...   \n",
            "3  Robinson-Patman Deserves Last Rites, Not Resur...   \n",
            "4  Rites of Spring music festival is April 20  Va...   \n",
            "\n",
            "                  published date  \\\n",
            "0  Sun, 02 Jun 2024 05:00:00 GMT   \n",
            "1  Sun, 02 Jun 2024 12:00:00 GMT   \n",
            "2  Thu, 30 May 2024 17:00:12 GMT   \n",
            "3  Wed, 29 May 2024 10:16:23 GMT   \n",
            "4  Thu, 18 Apr 2024 07:00:00 GMT   \n",
            "\n",
            "                                                 url  \\\n",
            "0  https://news.google.com/rss/articles/CBMieGh0d...   \n",
            "1  https://news.google.com/rss/articles/CBMihAFod...   \n",
            "2  https://news.google.com/rss/articles/CBMiamh0d...   \n",
            "3  https://news.google.com/rss/articles/CBMiUmh0d...   \n",
            "4  https://news.google.com/rss/articles/CBMiUmh0d...   \n",
            "\n",
            "                                           publisher symbol  \\\n",
            "0  {'href': 'https://www.journal-news.net', 'titl...  RITES   \n",
            "1  {'href': 'https://www.theguardian.com', 'title...  RITES   \n",
            "2  {'href': 'https://folknrock.com', 'title': 'Fo...  RITES   \n",
            "3  {'href': 'https://www.aier.org', 'title': 'AIE...  RITES   \n",
            "4  {'href': 'https://news.vanderbilt.edu', 'title...  RITES   \n",
            "\n",
            "                 date  \n",
            "0 2024-06-02 05:00:00  \n",
            "1 2024-06-02 12:00:00  \n",
            "2 2024-05-30 17:00:12  \n",
            "3 2024-05-29 10:16:23  \n",
            "4 2024-04-18 07:00:00  \n"
          ]
        }
      ]
    },
    {
      "cell_type": "code",
      "source": [
        "# Download the VADER lexicon\n",
        "!pip install nltk\n",
        "import nltk\n",
        "nltk.download('vader_lexicon')\n",
        "\n",
        "from nltk.sentiment import SentimentIntensityAnalyzer # Import SentimentIntensityAnalyzer\n",
        "sia = SentimentIntensityAnalyzer()\n",
        "\n",
        "# Apply sentiment analysis\n",
        "news_data['Sentiment'] = news_data['description'].apply(lambda x: sia.polarity_scores(x)['compound'])\n",
        "\n",
        "# Aggregate daily sentiment scores\n",
        "news_data.set_index('date', inplace=True)\n",
        "daily_sentiment = news_data.groupby(['symbol', news_data.index.date])['Sentiment'].mean().unstack(level=0)\n",
        "\n",
        "# Display the first few rows of the aggregated sentiment dataset\n",
        "print(daily_sentiment.head())"
      ],
      "metadata": {
        "colab": {
          "base_uri": "https://localhost:8080/"
        },
        "id": "Hiy5_Niie0Fi",
        "outputId": "8b184546-a0b2-4ce5-f026-dd6a3cc88e07"
      },
      "execution_count": 17,
      "outputs": [
        {
          "output_type": "stream",
          "name": "stdout",
          "text": [
            "Requirement already satisfied: nltk in /usr/local/lib/python3.10/dist-packages (3.8.1)\n",
            "Requirement already satisfied: click in /usr/local/lib/python3.10/dist-packages (from nltk) (8.1.7)\n",
            "Requirement already satisfied: joblib in /usr/local/lib/python3.10/dist-packages (from nltk) (1.4.2)\n",
            "Requirement already satisfied: regex>=2021.8.3 in /usr/local/lib/python3.10/dist-packages (from nltk) (2024.5.15)\n",
            "Requirement already satisfied: tqdm in /usr/local/lib/python3.10/dist-packages (from nltk) (4.66.4)\n"
          ]
        },
        {
          "output_type": "stream",
          "name": "stderr",
          "text": [
            "[nltk_data] Downloading package vader_lexicon to /root/nltk_data...\n"
          ]
        },
        {
          "output_type": "stream",
          "name": "stdout",
          "text": [
            "symbol      RELIANCE  RITES  TAJGVK  TATAMOTORS\n",
            "2001-08-08       NaN    NaN  0.0000         NaN\n",
            "2014-05-12       NaN    NaN  0.5106         NaN\n",
            "2015-11-04       NaN    NaN  0.0000         NaN\n",
            "2016-01-05       NaN    NaN  0.0000         NaN\n",
            "2016-01-30       NaN    NaN  0.0000         NaN\n"
          ]
        }
      ]
    },
    {
      "cell_type": "code",
      "source": [
        "# Function to add technical indicators and merge sentiment data\n",
        "def add_features(data, symbol):\n",
        "    df = data[symbol].copy()\n",
        "    df['MA50'] = df['Close'].rolling(window=50).mean()\n",
        "    df['MA200'] = df['Close'].rolling(window=200).mean()\n",
        "    df['Volatility'] = df['Close'].rolling(window=50).std()\n",
        "    df['Sentiment'] = daily_sentiment[symbol]\n",
        "    df['Sentiment'] = df['Sentiment'].fillna(0)\n",
        "    df['Return'] = df['Close'].pct_change()\n",
        "    df['Future Return'] = df['Close'].shift(-1) / df['Close'] - 1\n",
        "    df['Target'] = (df['Future Return'] > 0).astype(int)\n",
        "    return df.dropna()\n",
        "\n",
        "# Add features to all datasets\n",
        "feature_data = {symbol: add_features(data, symbol) for symbol in symbols}\n",
        "\n",
        "# Combine feature data into a single DataFrame\n",
        "combined_features = pd.concat([feature_data[symbol] for symbol in symbols])\n",
        "\n",
        "# Split data into training and testing sets\n",
        "X = combined_features[['MA50', 'MA200', 'Volatility', 'Sentiment', 'Return']]\n",
        "y = combined_features['Target']\n",
        "X_train, X_test, y_train, y_test = train_test_split(X, y, test_size=0.2, shuffle=False)\n",
        "\n",
        "# Train a Random Forest model\n",
        "model = RandomForestClassifier(n_estimators=100, random_state=42)\n",
        "model.fit(X_train, y_train)\n",
        "\n",
        "# Validate the model\n",
        "y_pred = model.predict(X_test)\n",
        "accuracy = accuracy_score(y_test, y_pred)\n",
        "print(f'Validation Accuracy: {accuracy:.2f}')"
      ],
      "metadata": {
        "colab": {
          "base_uri": "https://localhost:8080/"
        },
        "id": "dtwAAeqkgBpV",
        "outputId": "e066c2f5-ebd4-49f2-ee10-e24859c047fa"
      },
      "execution_count": 18,
      "outputs": [
        {
          "output_type": "stream",
          "name": "stdout",
          "text": [
            "Validation Accuracy: 0.51\n"
          ]
        }
      ]
    },
    {
      "cell_type": "code",
      "source": [
        "import matplotlib.pyplot as plt\n",
        "# Generate trading signals\n",
        "combined_features['Prediction'] = model.predict(X)\n",
        "\n",
        "# Buy signal: when the model predicts the price will go up\n",
        "combined_features['Signal'] = 0\n",
        "combined_features['Signal'][combined_features['Prediction'] == 1] = 1\n",
        "\n",
        "# Calculate strategy returns\n",
        "combined_features['Strategy Return'] = combined_features['Signal'].shift(1) * combined_features['Return']\n",
        "\n",
        "# Plot cumulative returns\n",
        "combined_features['Cumulative Market Return'] = (1 + combined_features['Return']).cumprod()\n",
        "combined_features['Cumulative Strategy Return'] = (1 + combined_features['Strategy Return']).cumprod()\n",
        "\n",
        "plt.figure(figsize=(12, 6))\n",
        "plt.plot(combined_features['Cumulative Market Return'], label='Market Return')\n",
        "plt.plot(combined_features['Cumulative Strategy Return'], label='Strategy Return')\n",
        "plt.legend()\n",
        "plt.show()\n",
        "\n",
        "# Calculate and print performance metrics\n",
        "total_market_return = combined_features['Cumulative Market Return'].iloc[-1] - 1\n",
        "total_strategy_return = combined_features['Cumulative Strategy Return'].iloc[-1] - 1\n",
        "print(f'Total Market Return: {total_market_return:.2f}')\n",
        "print(f'Total Strategy Return: {total_strategy_return:.2f}')"
      ],
      "metadata": {
        "colab": {
          "base_uri": "https://localhost:8080/",
          "height": 658
        },
        "id": "1wRY-ESWgK9P",
        "outputId": "ea812ffc-bba5-4ce1-fbd5-1bfdf3b34859"
      },
      "execution_count": 20,
      "outputs": [
        {
          "output_type": "stream",
          "name": "stderr",
          "text": [
            "<ipython-input-20-3fdf70721560>:7: SettingWithCopyWarning: \n",
            "A value is trying to be set on a copy of a slice from a DataFrame\n",
            "\n",
            "See the caveats in the documentation: https://pandas.pydata.org/pandas-docs/stable/user_guide/indexing.html#returning-a-view-versus-a-copy\n",
            "  combined_features['Signal'][combined_features['Prediction'] == 1] = 1\n"
          ]
        },
        {
          "output_type": "display_data",
          "data": {
            "text/plain": [
              "<Figure size 1200x600 with 1 Axes>"
            ],
            "image/png": "[encoded data removed]"
          },
          "metadata": {}
        },
        {
          "output_type": "stream",
          "name": "stdout",
          "text": [
            "Total Market Return: 27.68\n",
            "Total Strategy Return: 380976913.46\n"
          ]
        }
      ]
    }
  ]
}